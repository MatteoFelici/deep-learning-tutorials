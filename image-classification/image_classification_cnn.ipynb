{
 "cells": [
  {
   "cell_type": "markdown",
   "metadata": {},
   "source": [
    "# Classificazione di immagini - Le reti neruali convoluzionali (CNN)\n",
    "\n",
    "Per i dati di tipo *strutturato* esiste il \"classico\" algoritmo di Neural Network:\n",
    "![Simple Neural Network](images/simple-neural-network.png)\n",
    "\n",
    "- Un nodo per ogni variabile di input\n",
    "- Uno o più *layers* di nodi intermedi, con uno o più nodi ognuno\n",
    "- Un nodo per predire l'output\n",
    "- Ogni nodo di un layer è collegato con tutti quelli del layer precedente e tutti quelli del layer successivo\n",
    "\n",
    "Una struttura così complessa si applica però male al caso di dati *non strutturati*, come ad esempio le immagini.\n",
    "\n"
   ]
  },
  {
   "cell_type": "code",
   "execution_count": null,
   "metadata": {},
   "outputs": [],
   "source": []
  },
  {
   "cell_type": "code",
   "execution_count": null,
   "metadata": {},
   "outputs": [],
   "source": [
    "from tensorflow import keras"
   ]
  }
 ],
 "metadata": {
  "kernelspec": {
   "display_name": "Tensorflow 2",
   "language": "python",
   "name": "tf2"
  },
  "language_info": {
   "codemirror_mode": {
    "name": "ipython",
    "version": 3
   },
   "file_extension": ".py",
   "mimetype": "text/x-python",
   "name": "python",
   "nbconvert_exporter": "python",
   "pygments_lexer": "ipython3",
   "version": "3.8.5"
  }
 },
 "nbformat": 4,
 "nbformat_minor": 4
}
